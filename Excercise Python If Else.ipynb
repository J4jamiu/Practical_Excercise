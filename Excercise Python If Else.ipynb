{
 "cells": [
  {
   "cell_type": "code",
   "execution_count": 1,
   "id": "c99c3554-0674-443b-801b-07a892f56eb1",
   "metadata": {},
   "outputs": [],
   "source": [
    "#Excercise\n",
    "#Given an integer,n , perform the following conditional actions:\n",
    "#If n is odd, print Weird\n",
    "#If n is even and in the inclusive range of to , print Not Weird\n",
    "#If n is even and in the inclusive rangeof to , print Weird\n",
    "#If n is even and greater than , print Not Weird\n",
    "#Input Format\n",
    "#A single line containing a positive integer, n.\n",
    "\n",
    "\n"
   ]
  },
  {
   "cell_type": "code",
   "execution_count": 2,
   "id": "6fcbc114-563d-42b9-83b6-66ca0a33ef8b",
   "metadata": {},
   "outputs": [],
   "source": [
    "#SOLUTION"
   ]
  },
  {
   "cell_type": "code",
   "execution_count": 11,
   "id": "898af86c-7818-4f1c-b7a6-2d8cfdfc46cb",
   "metadata": {},
   "outputs": [
    {
     "name": "stdin",
     "output_type": "stream",
     "text": [
      " 3\n"
     ]
    },
    {
     "name": "stdout",
     "output_type": "stream",
     "text": [
      "Weird\n"
     ]
    }
   ],
   "source": [
    "n = int(input())\n",
    "\n",
    "if n % 2:\n",
    "    print('Weird')\n",
    "elif 2 <= n <= 5:\n",
    "    print('NotWeird')\n",
    "elif 6 <= n <=20:\n",
    "        print('Weird')\n",
    "        \n",
    "else:\n",
    "            print('NotWeird')"
   ]
  },
  {
   "cell_type": "code",
   "execution_count": 12,
   "id": "04a88ae6-8ee5-4601-93ac-c06bf05fec62",
   "metadata": {},
   "outputs": [
    {
     "name": "stdin",
     "output_type": "stream",
     "text": [
      " 24\n"
     ]
    },
    {
     "name": "stdout",
     "output_type": "stream",
     "text": [
      "NotWeird\n"
     ]
    }
   ],
   "source": [
    "n = int(input())\n",
    "\n",
    "if n % 2:\n",
    "    print('Weird')\n",
    "elif 2 <= n <= 5:\n",
    "    print('NotWeird')\n",
    "elif 6 <= n <=20:\n",
    "        print('Weird')\n",
    "        \n",
    "else:\n",
    "            print('NotWeird')"
   ]
  },
  {
   "cell_type": "code",
   "execution_count": null,
   "id": "4aa44f9b-6444-48a9-8907-b145b24f36bf",
   "metadata": {},
   "outputs": [],
   "source": []
  }
 ],
 "metadata": {
  "kernelspec": {
   "display_name": "Python 3 (ipykernel)",
   "language": "python",
   "name": "python3"
  },
  "language_info": {
   "codemirror_mode": {
    "name": "ipython",
    "version": 3
   },
   "file_extension": ".py",
   "mimetype": "text/x-python",
   "name": "python",
   "nbconvert_exporter": "python",
   "pygments_lexer": "ipython3",
   "version": "3.9.13"
  }
 },
 "nbformat": 4,
 "nbformat_minor": 5
}
