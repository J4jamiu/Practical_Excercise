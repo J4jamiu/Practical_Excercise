{
 "cells": [
  {
   "cell_type": "code",
   "execution_count": 1,
   "id": "1b67c504-f191-4ea9-9ed8-53f9dbe78fce",
   "metadata": {},
   "outputs": [],
   "source": [
    "#Question on FUnction\n",
    "\n",
    "#You are asked to ensure that the first and last names of people begin with a capital letter in their passports. For exam\n",
    "#ple, alison heck should be capitalised correctly as Alison Heck. \n",
    "#alison heck => Alison Heck \n",
    " \n",
    "#Given a full name, your task is to capitalize the name appropriately"
   ]
  },
  {
   "cell_type": "code",
   "execution_count": null,
   "id": "ce90c3b7-a0c8-4769-bb33-ae2b8837b28f",
   "metadata": {},
   "outputs": [],
   "source": []
  },
  {
   "cell_type": "code",
   "execution_count": 5,
   "id": "37c46c99-9104-4eb4-b03f-5e67f49ac1bc",
   "metadata": {},
   "outputs": [
    {
     "name": "stdout",
     "output_type": "stream",
     "text": [
      "before\n",
      "ola bisi\n",
      "after\n",
      "Ola bisi\n"
     ]
    }
   ],
   "source": [
    "name = 'ola bisi'\n",
    "print('before')\n",
    "print(name)\n",
    "print('after')\n",
    "print(name.capitalize())"
   ]
  },
  {
   "cell_type": "code",
   "execution_count": 3,
   "id": "b4aa8c16-5ba0-4c2e-b78a-8b940494be37",
   "metadata": {},
   "outputs": [
    {
     "name": "stdout",
     "output_type": "stream",
     "text": [
      "before\n",
      "ola bisi\n",
      "after\n",
      "Ola Bisi\n"
     ]
    }
   ],
   "source": [
    "name = 'ola bisi'\n",
    "print('before')\n",
    "print(name)\n",
    "print('after')\n",
    "result = name.title()\n",
    "print(result)"
   ]
  },
  {
   "cell_type": "code",
   "execution_count": 8,
   "id": "88297a0c-049d-4e97-ab27-d5fed212ae01",
   "metadata": {},
   "outputs": [
    {
     "name": "stdout",
     "output_type": "stream",
     "text": [
      "before\n",
      "jamiu olabisi\n",
      "after\n",
      "Jamiu Olabisi\n"
     ]
    }
   ],
   "source": [
    "name= 'jamiu olabisi'\n",
    "print('before')\n",
    "print(name)\n",
    "print('after')\n",
    "result =name.title()\n",
    "print(result)\n"
   ]
  },
  {
   "cell_type": "code",
   "execution_count": 9,
   "id": "1c921fcf-0aa0-446d-ba1f-46c761fd1c3a",
   "metadata": {},
   "outputs": [
    {
     "name": "stdout",
     "output_type": "stream",
     "text": [
      "before\n",
      "jamiu olabisi omotoso adegboyega\n",
      "after\n",
      "Jamiu Olabisi Omotoso Adegboyega\n"
     ]
    }
   ],
   "source": [
    "name='jamiu olabisi omotoso adegboyega'\n",
    "print('before')\n",
    "print(name)\n",
    "print('after')\n",
    "result = name.title()\n",
    "print(result)"
   ]
  },
  {
   "cell_type": "code",
   "execution_count": null,
   "id": "50a0c79b-6e95-4b9b-9bfd-c26c3df0f77f",
   "metadata": {},
   "outputs": [],
   "source": []
  }
 ],
 "metadata": {
  "kernelspec": {
   "display_name": "Python 3 (ipykernel)",
   "language": "python",
   "name": "python3"
  },
  "language_info": {
   "codemirror_mode": {
    "name": "ipython",
    "version": 3
   },
   "file_extension": ".py",
   "mimetype": "text/x-python",
   "name": "python",
   "nbconvert_exporter": "python",
   "pygments_lexer": "ipython3",
   "version": "3.9.13"
  }
 },
 "nbformat": 4,
 "nbformat_minor": 5
}
