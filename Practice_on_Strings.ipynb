{
 "cells": [
  {
   "cell_type": "code",
   "execution_count": 1,
   "id": "20343fa9-63fc-4507-a429-381deb253e88",
   "metadata": {},
   "outputs": [],
   "source": [
    "#Practice on Strings\n"
   ]
  },
  {
   "cell_type": "code",
   "execution_count": 1,
   "id": "f3edfb3b-55d4-4468-8a34-00f04b21fb0f",
   "metadata": {},
   "outputs": [
    {
     "name": "stdout",
     "output_type": "stream",
     "text": [
      "M\n"
     ]
    }
   ],
   "source": [
    "Cars = 'Mercedes BENZ'\n",
    "Fine_car = Cars[0]\n",
    "print(Fine_car)"
   ]
  },
  {
   "cell_type": "code",
   "execution_count": 3,
   "id": "06a545a1-4e4b-43c9-b718-23080e3f620a",
   "metadata": {},
   "outputs": [
    {
     "name": "stdout",
     "output_type": "stream",
     "text": [
      "M\n",
      "e\n"
     ]
    }
   ],
   "source": [
    "lenght = len(Cars)\n",
    "first = Cars[0]\n",
    "second =Cars[1]\n",
    "print(first)\n",
    "print(second)"
   ]
  },
  {
   "cell_type": "code",
   "execution_count": 13,
   "id": "95b18e31-b9b0-4ba2-a578-03482da11dd9",
   "metadata": {},
   "outputs": [
    {
     "data": {
      "text/plain": [
       "10"
      ]
     },
     "execution_count": 13,
     "metadata": {},
     "output_type": "execute_result"
    }
   ],
   "source": [
    "TO DET LENGHT OF A STRING\n",
    "food ='Rice_Beans'\n",
    "len(food)"
   ]
  },
  {
   "cell_type": "code",
   "execution_count": null,
   "id": "a4b34f99-56d3-43b6-8ec3-51bbfd1caf48",
   "metadata": {},
   "outputs": [],
   "source": [
    "#Exercise 2: Given that fruit is a string, what does fruit[:] mean"
   ]
  },
  {
   "cell_type": "code",
   "execution_count": null,
   "id": "511def93-0c8e-4762-924a-5c093c879608",
   "metadata": {},
   "outputs": [
    {
     "name": "stdout",
     "output_type": "stream",
     "text": [
      "apple\n"
     ]
    }
   ],
   "source": [
    "fruit ='apple'\n",
    "fruit[ : ]\n",
    "print (fruit)"
   ]
  },
  {
   "cell_type": "code",
   "execution_count": 16,
   "id": "7884d30b-3132-4cf3-bd4d-afa8d6ed05f6",
   "metadata": {},
   "outputs": [
    {
     "name": "stdout",
     "output_type": "stream",
     "text": [
      "Omosalewa\n"
     ]
    }
   ],
   "source": [
    "#Strings are immutable examples\n",
    "\n",
    "lover = 'Olusalewa'\n",
    "new_lover = 'Omo' + lover[3: ]\n",
    "print(new_lover)"
   ]
  },
  {
   "cell_type": "code",
   "execution_count": 20,
   "id": "6b3c4f66-5fb5-43eb-9e06-5149de8ca75d",
   "metadata": {},
   "outputs": [
    {
     "name": "stdout",
     "output_type": "stream",
     "text": [
      "Jamiu is a Data Scientist\n"
     ]
    }
   ],
   "source": [
    "Jamiu ='Data Scientist'\n",
    "New_Jamiu = 'Jamiu is a ' + Jamiu[ : ]\n",
    "print(New_Jamiu)"
   ]
  },
  {
   "cell_type": "code",
   "execution_count": 21,
   "id": "78b47c79-3646-4f25-83ca-e430501163c1",
   "metadata": {},
   "outputs": [],
   "source": [
    "#Looping and counting"
   ]
  },
  {
   "cell_type": "code",
   "execution_count": 35,
   "id": "8a3f2229-13a4-4949-abbd-2d801fdb64dc",
   "metadata": {},
   "outputs": [
    {
     "name": "stdout",
     "output_type": "stream",
     "text": [
      "5\n"
     ]
    }
   ],
   "source": [
    "name = 'Olusolaoooo'\n",
    "count = 0\n",
    "for letter in name:\n",
    "    if letter == 'o':\n",
    "        count = count + 1\n",
    "print(count)"
   ]
  },
  {
   "cell_type": "code",
   "execution_count": null,
   "id": "c481fb62-58c4-41fd-9e15-c646e15993ab",
   "metadata": {},
   "outputs": [],
   "source": []
  },
  {
   "cell_type": "code",
   "execution_count": null,
   "id": "6a9d3c26-fa74-44a1-a417-57d0353be8b8",
   "metadata": {},
   "outputs": [],
   "source": [
    "#The in operator\n",
    "The word in is a boolean operator that takes two strings and returns True if the\n",
    "first appears as a substring in the second"
   ]
  },
  {
   "cell_type": "code",
   "execution_count": 37,
   "id": "dda2b516-1ec0-4ec5-a094-25c2c820ce6f",
   "metadata": {},
   "outputs": [
    {
     "data": {
      "text/plain": [
       "True"
      ]
     },
     "execution_count": 37,
     "metadata": {},
     "output_type": "execute_result"
    }
   ],
   "source": [
    " 'J' in 'Jamiu'\n",
    "    "
   ]
  },
  {
   "cell_type": "code",
   "execution_count": 38,
   "id": "39f594b8-6ed5-4da5-8673-fe448306166a",
   "metadata": {},
   "outputs": [
    {
     "data": {
      "text/plain": [
       "True"
      ]
     },
     "execution_count": 38,
     "metadata": {},
     "output_type": "execute_result"
    }
   ],
   "source": [
    "'J' in 'Jaiz'"
   ]
  },
  {
   "cell_type": "code",
   "execution_count": null,
   "id": "a9b1fe5a-2105-4f3d-881b-96954f131e0b",
   "metadata": {},
   "outputs": [],
   "source": []
  }
 ],
 "metadata": {
  "kernelspec": {
   "display_name": "Python 3 (ipykernel)",
   "language": "python",
   "name": "python3"
  },
  "language_info": {
   "codemirror_mode": {
    "name": "ipython",
    "version": 3
   },
   "file_extension": ".py",
   "mimetype": "text/x-python",
   "name": "python",
   "nbconvert_exporter": "python",
   "pygments_lexer": "ipython3",
   "version": "3.9.13"
  }
 },
 "nbformat": 4,
 "nbformat_minor": 5
}
