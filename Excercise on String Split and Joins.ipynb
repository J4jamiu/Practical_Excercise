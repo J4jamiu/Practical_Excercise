{
 "cells": [
  {
   "cell_type": "code",
   "execution_count": 1,
   "id": "584fe43e-c270-43ee-9886-5dd9e93313ae",
   "metadata": {},
   "outputs": [],
   "source": [
    "#String Splits and  joins"
   ]
  },
  {
   "cell_type": "code",
   "execution_count": 33,
   "id": "3cafbc27-0463-4d8c-9768-c50ab0f61ebf",
   "metadata": {},
   "outputs": [],
   "source": [
    "#QUESTION:\n",
    "#Split and join \n",
    "#(1) This is an example of good coding"
   ]
  },
  {
   "cell_type": "code",
   "execution_count": 39,
   "id": "00fa9990-409a-48a9-9a88-9ede40361dee",
   "metadata": {},
   "outputs": [
    {
     "name": "stdout",
     "output_type": "stream",
     "text": [
      "['This', 'is', 'an', 'example', 'of', 'good', 'coding']\n"
     ]
    }
   ],
   "source": [
    "a = 'This is an example of good coding'\n",
    "a = a.split(' ')\n",
    "print(a)"
   ]
  },
  {
   "cell_type": "code",
   "execution_count": null,
   "id": "3a8726fa-1b2d-4169-9fdc-c0a2ef7d126a",
   "metadata": {},
   "outputs": [],
   "source": [
    "#question 2\n",
    "# Split and Join : Jamiu is solving Pyton problems"
   ]
  },
  {
   "cell_type": "code",
   "execution_count": 48,
   "id": "45d0e4ca-4de4-4eb8-9a1e-544f7242b2e2",
   "metadata": {},
   "outputs": [
    {
     "name": "stdout",
     "output_type": "stream",
     "text": [
      "['Jamiu', 'is', 'solving', 'Pyton', 'problems']\n"
     ]
    }
   ],
   "source": [
    "b = 'Jamiu is solving Pyton problems'\n",
    "b = b.split(' ')\n",
    "print(b)"
   ]
  },
  {
   "cell_type": "code",
   "execution_count": null,
   "id": "3caca1fb-8e15-4f31-9ecc-e52d41788d01",
   "metadata": {},
   "outputs": [],
   "source": [
    "#Solution to Joins"
   ]
  },
  {
   "cell_type": "code",
   "execution_count": 37,
   "id": "ad16a134-899f-46f8-b431-9a7cab3ea990",
   "metadata": {},
   "outputs": [
    {
     "name": "stdout",
     "output_type": "stream",
     "text": [
      "This is an example of good coding\n"
     ]
    }
   ],
   "source": [
    "a ='_'.join(a)\n",
    "print(a)"
   ]
  },
  {
   "cell_type": "code",
   "execution_count": null,
   "id": "c56807fe-16a7-435b-9cc3-5fa21063a44e",
   "metadata": {},
   "outputs": [],
   "source": []
  },
  {
   "cell_type": "code",
   "execution_count": null,
   "id": "22487bcc-2aa1-4203-86e4-6efcdefe1db5",
   "metadata": {
    "tags": []
   },
   "outputs": [],
   "source": []
  },
  {
   "cell_type": "code",
   "execution_count": null,
   "id": "bfcaa920-7145-4d70-9758-9fff04eeddf0",
   "metadata": {},
   "outputs": [],
   "source": []
  },
  {
   "cell_type": "code",
   "execution_count": null,
   "id": "fae5a24a-dd5d-4517-aa5c-ccd2a0f1b2b0",
   "metadata": {},
   "outputs": [],
   "source": []
  }
 ],
 "metadata": {
  "kernelspec": {
   "display_name": "Python 3 (ipykernel)",
   "language": "python",
   "name": "python3"
  },
  "language_info": {
   "codemirror_mode": {
    "name": "ipython",
    "version": 3
   },
   "file_extension": ".py",
   "mimetype": "text/x-python",
   "name": "python",
   "nbconvert_exporter": "python",
   "pygments_lexer": "ipython3",
   "version": "3.9.13"
  }
 },
 "nbformat": 4,
 "nbformat_minor": 5
}
